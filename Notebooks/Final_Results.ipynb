{
 "cells": [
  {
   "cell_type": "code",
   "execution_count": 3,
   "id": "a36842e2-4922-40df-8384-be0ee0255845",
   "metadata": {},
   "outputs": [],
   "source": [
    "import pandas\n",
    "import os\n",
    "import nibabel as nib\n",
    "import matplotlib.pyplot as plt\n",
    "import torch\n",
    "import SimpleITK as sitk\n",
    "import json\n",
    "import pandas as pd\n",
    "import numpy as np\n",
    "import cc3d"
   ]
  },
  {
   "cell_type": "markdown",
   "id": "4126ffc2-71f6-4a02-8bec-c35a71825642",
   "metadata": {},
   "source": [
    "### Define functions"
   ]
  },
  {
   "cell_type": "code",
   "execution_count": 4,
   "id": "3b58829d-6493-41e4-8702-36104876ae07",
   "metadata": {},
   "outputs": [],
   "source": [
    "def nii2numpy(nii_path):\n",
    "    # input: path of NIfTI segmentation file, output: corresponding numpy array and voxel_vol in ml\n",
    "    mask_nii = nib.load(str(nii_path))\n",
    "    mask = mask_nii.get_fdata()\n",
    "    pixdim = mask_nii.header['pixdim']   \n",
    "    voxel_vol = pixdim[1]*pixdim[2]*pixdim[3]/1000\n",
    "    return mask, voxel_vol\n",
    "\n",
    "\n",
    "def con_comp(seg_array):\n",
    "    # input: a binary segmentation array output: an array with seperated (indexed) connected components of the segmentation array\n",
    "    connectivity = 18\n",
    "    conn_comp = cc3d.connected_components(seg_array, connectivity=connectivity)\n",
    "    return conn_comp\n",
    "\n",
    "\n",
    "def false_pos_pix(gt_array,pred_array):\n",
    "    # compute number of voxels of false positive connected components in prediction mask\n",
    "    pred_conn_comp = con_comp(pred_array)\n",
    "    \n",
    "    false_pos = 0\n",
    "    for idx in range(1,pred_conn_comp.max()+1):\n",
    "        comp_mask = np.isin(pred_conn_comp, idx)\n",
    "        if (comp_mask*gt_array).sum() == 0:\n",
    "            false_pos = false_pos+comp_mask.sum()\n",
    "    return false_pos\n",
    "\n",
    "\n",
    "\n",
    "def false_neg_pix(gt_array,pred_array):\n",
    "    # compute number of voxels of false negative connected components (of the ground truth mask) in the prediction mask\n",
    "    gt_conn_comp = con_comp(gt_array)\n",
    "    \n",
    "    false_neg = 0\n",
    "    for idx in range(1,gt_conn_comp.max()+1):\n",
    "        comp_mask = np.isin(gt_conn_comp, idx)\n",
    "        if (comp_mask*pred_array).sum() == 0:\n",
    "            false_neg = false_neg+comp_mask.sum()\n",
    "            \n",
    "    return false_neg\n",
    "\n",
    "\n",
    "def dice_score(mask1,mask2):\n",
    "    # compute foreground Dice coefficient\n",
    "    overlap = (mask1*mask2).sum()\n",
    "    sum = mask1.sum()+mask2.sum()\n",
    "    dice_score = 2*overlap/sum\n",
    "    return dice_score\n",
    "\n",
    "\n",
    "\n",
    "def compute_metrics(nii_gt_path, nii_pred_path):\n",
    "    # main function\n",
    "    gt_array, voxel_vol = nii2numpy(nii_gt_path)\n",
    "    pred_array, voxel_vol = nii2numpy(nii_pred_path)\n",
    "\n",
    "    false_neg_vol = false_neg_pix(gt_array, pred_array) #*voxel_vol\n",
    "    false_pos_vol = false_pos_pix(gt_array, pred_array) #*voxel_vol\n",
    "    dice_sc = dice_score(gt_array,pred_array)\n",
    "\n",
    "    return dice_sc, false_pos_vol, false_neg_vol"
   ]
  },
  {
   "cell_type": "markdown",
   "id": "e8b92a66-946c-4c89-9c06-155a8da6a93c",
   "metadata": {},
   "source": [
    "## nnUNet Results"
   ]
  },
  {
   "cell_type": "code",
   "execution_count": 2,
   "id": "fa7bec8c-79ae-4f4f-9461-75da7eab9fae",
   "metadata": {},
   "outputs": [
    {
     "ename": "NameError",
     "evalue": "name 'os' is not defined",
     "output_type": "error",
     "traceback": [
      "\u001b[0;31m---------------------------------------------------------------------------\u001b[0m",
      "\u001b[0;31mNameError\u001b[0m                                 Traceback (most recent call last)",
      "Cell \u001b[0;32mIn[2], line 4\u001b[0m\n\u001b[1;32m      1\u001b[0m inference_folder \u001b[38;5;241m=\u001b[39m \u001b[38;5;124m'\u001b[39m\u001b[38;5;124m/gpfs3/well/papiez/users/hri611/python/nnUNet_results/Dataset219_PETCT/nnUNetTrainer_1500epochs_NoMirroring__nnUNetPlans__3d_fullres/inferTs222_postcropping\u001b[39m\u001b[38;5;124m'\u001b[39m\n\u001b[1;32m      2\u001b[0m GT_labels \u001b[38;5;241m=\u001b[39m \u001b[38;5;124m'\u001b[39m\u001b[38;5;124m/gpfs3/well/papiez/users/hri611/python/nnUNet_results/Dataset219_PETCT/nnUNetTrainer_1500epochs_NoMirroring__nnUNetPlans__3d_fullres/labelsTs222_postcropping\u001b[39m\u001b[38;5;124m'\u001b[39m\n\u001b[0;32m----> 4\u001b[0m inference_images \u001b[38;5;241m=\u001b[39m [x \u001b[38;5;28;01mfor\u001b[39;00m x \u001b[38;5;129;01min\u001b[39;00m \u001b[43mos\u001b[49m\u001b[38;5;241m.\u001b[39mlistdir(inference_folder) \u001b[38;5;28;01mif\u001b[39;00m \u001b[38;5;124m'\u001b[39m\u001b[38;5;124m.nii.gz\u001b[39m\u001b[38;5;124m'\u001b[39m \u001b[38;5;129;01min\u001b[39;00m x]\n\u001b[1;32m      6\u001b[0m dice_list\u001b[38;5;241m=\u001b[39m[]\n\u001b[1;32m      7\u001b[0m false_pos\u001b[38;5;241m=\u001b[39m[]\n",
      "\u001b[0;31mNameError\u001b[0m: name 'os' is not defined"
     ]
    }
   ],
   "source": [
    "inference_folder = '/gpfs3/well/papiez/users/hri611/python/nnUNet_results/Dataset219_PETCT/nnUNetTrainer_1500epochs_NoMirroring__nnUNetPlans__3d_fullres/inferTs222_postcropping'\n",
    "GT_labels = '/gpfs3/well/papiez/users/hri611/python/nnUNet_results/Dataset219_PETCT/nnUNetTrainer_1500epochs_NoMirroring__nnUNetPlans__3d_fullres/labelsTs222_postcropping'\n",
    "\n",
    "inference_images = [x for x in os.listdir(inference_folder) if '.nii.gz' in x]\n",
    "\n",
    "dice_list=[]\n",
    "false_pos=[]\n",
    "false_negs=[]\n",
    "for image in inference_images:\n",
    "    dice,b,c = compute_metrics(os.path.join(GT_labels,image), os.path.join(inference_folder,image))\n",
    "    dice_list.append(dice)\n",
    "    false_pos.append(b)\n",
    "    false_negs.append(c)\n",
    "    \n",
    "nnunet_results_df = pd.DataFrame()\n",
    "nnunet_results_df['image']=inference_images\n",
    "nnunet_results_df['dice']=dice_list\n",
    "nnunet_results_df['false_pos']=false_pos\n",
    "nnunet_results_df['false_neg']=false_negs"
   ]
  },
  {
   "cell_type": "code",
   "execution_count": null,
   "id": "2088fbd9-04df-4e36-b7c3-7031c1bb61d1",
   "metadata": {},
   "outputs": [],
   "source": [
    "nnunet_results_df"
   ]
  },
  {
   "cell_type": "code",
   "execution_count": 6,
   "id": "645cfc3e-de9b-477b-ba7c-095d852996d9",
   "metadata": {},
   "outputs": [
    {
     "name": "stdout",
     "output_type": "stream",
     "text": [
      "0.7862813495828779\n",
      "17.86813186813187\n",
      "69.01098901098901\n"
     ]
    }
   ],
   "source": [
    "print(nnunet_results_df['dice'].mean())\n",
    "print(nnunet_results_df['false_pos'].mean())\n",
    "print(nnunet_results_df['false_neg'].mean())"
   ]
  },
  {
   "cell_type": "markdown",
   "id": "5dcb733a-0005-4a1a-ab78-d5f023fbc4db",
   "metadata": {},
   "source": [
    "## Evidencecap Results"
   ]
  },
  {
   "cell_type": "code",
   "execution_count": 7,
   "id": "155b95c1-a558-45bc-97b7-a41528dc1fa9",
   "metadata": {},
   "outputs": [
    {
     "name": "stderr",
     "output_type": "stream",
     "text": [
      "/tmp/slurm-29537851/ipykernel_130478/3884846343.py:47: RuntimeWarning: invalid value encountered in scalar divide\n",
      "  dice_score = 2*overlap/sum\n"
     ]
    }
   ],
   "source": [
    "model_folder = 'test_output_2_ab_U_unc_oversample_128_U_autopet_folder0_DUloss_epoch_198.pth'\n",
    "\n",
    "dice_list=[]\n",
    "false_pos=[]\n",
    "false_negs=[]\n",
    "image_names = []\n",
    "for folder in os.listdir(model_folder):\n",
    "    image_names.append(folder)\n",
    "    gt_path = os.path.join(model_folder,folder,'target.nii.gz')\n",
    "    pred_path = os.path.join(model_folder,folder,'output.nii.gz')\n",
    "                     \n",
    "    dice,b,c = compute_metrics(gt_path, pred_path)\n",
    "    dice_list.append(dice)\n",
    "    false_pos.append(b)\n",
    "    false_negs.append(c)\n",
    "\n",
    "evidence_results_df = pd.DataFrame()\n",
    "evidence_results_df['image']=inference_images\n",
    "evidence_results_df['dice']=dice_list\n",
    "evidence_results_df['false_pos']=false_pos\n",
    "evidence_results_df['false_neg']=false_negs"
   ]
  },
  {
   "cell_type": "code",
   "execution_count": 8,
   "id": "7d25886e-c351-4136-aa61-a16b347c6234",
   "metadata": {},
   "outputs": [
    {
     "name": "stdout",
     "output_type": "stream",
     "text": [
      "0.7172067734699147\n",
      "346.35164835164835\n",
      "132.47252747252747\n"
     ]
    }
   ],
   "source": [
    "print(evidence_results_df['dice'].mean())\n",
    "print(evidence_results_df['false_pos'].mean())\n",
    "print(evidence_results_df['false_neg'].mean())"
   ]
  },
  {
   "cell_type": "markdown",
   "id": "68a1b115-77db-496b-9f81-5b383ed062c0",
   "metadata": {},
   "source": [
    "## Graphs of uncertainty and dice score"
   ]
  },
  {
   "cell_type": "code",
   "execution_count": 7,
   "id": "790f624a-0b6f-406c-ada6-d2b4092325a3",
   "metadata": {},
   "outputs": [
    {
     "data": {
      "image/png": "[encoded data removed]",
      "text/plain": [
       "<Figure size 640x480 with 1 Axes>"
      ]
     },
     "metadata": {},
     "output_type": "display_data"
    }
   ],
   "source": [
    "model_name ='ab_U_unc_oversample_128_U_autopet_folder0_DUloss_epoch_198.pth'\n",
    "df_name = str(model_name)+'_test_results_2.csv'\n",
    "results_df_ab_2=pd.read_csv(df_name)\n",
    "\n",
    "df = results_df_ab_2\n",
    "\n",
    "mask_class_0 = df['num_classes_list'] == 0\n",
    "mask_class_1 = df['num_classes_list'] == 1\n",
    "\n",
    "# Create a scatter plot for each group with different colors\n",
    "plt.scatter(df[mask_class_0]['uncertainty_list'], df[mask_class_0]['dice_list'], label='No tumour', c='blue')\n",
    "plt.scatter(df[mask_class_1]['uncertainty_list'], df[mask_class_1]['dice_list'], label='Tumour', c='red')\n",
    "\n",
    "plt.xlabel('Mean uncertainty across image')\n",
    "plt.ylabel('Dice overlap')\n",
    "plt.legend()  # Add a legend to label the two groups\n",
    "\n",
    "plt.show()"
   ]
  },
  {
   "cell_type": "code",
   "execution_count": 5,
   "id": "0729bdbc-2980-4078-8917-c28d5ae4bb46",
   "metadata": {},
   "outputs": [],
   "source": [
    "model_folder = 'test_output_2_ab_U_unc_oversample_128_U_autopet_folder0_DUloss_epoch_198.pth'\n",
    "\n",
    "mean_uncertainties = []\n",
    "image_names=[]\n",
    "total_diff_coords=[]\n",
    "uncertainty_values = []\n",
    "uncertainty_values_correct = []\n",
    "mean_uncertainties_correct=[]\n",
    "\n",
    "for folder in os.listdir(model_folder):\n",
    "    image_names.append(folder)\n",
    "\n",
    "    for file in os.listdir(os.path.join(model_folder,folder)):\n",
    "        if file == 'output.nii.gz':\n",
    "            path = os.path.join(model_folder,folder,file)\n",
    "            img_nifti = nib.load(path)\n",
    "            output = img_nifti.get_fdata()\n",
    "        if file == 'target.nii.gz':\n",
    "            path = os.path.join(model_folder,folder,file)\n",
    "            img_nifti = nib.load(path)\n",
    "            target = img_nifti.get_fdata()\n",
    "        if file == 'uncertainty.nii.gz':\n",
    "            path = os.path.join(model_folder,folder,file)\n",
    "            img_nifti = nib.load(path)\n",
    "            uncertainty = img_nifti.get_fdata()\n",
    "    diff_coordinates = np.argwhere(target - output != 0)\n",
    "    correct_coordinates = np.argwhere(target - output == 0)\n",
    "\n",
    "    # Iterate through coordinates with differences and collect uncertainty values\n",
    "    for coord in diff_coordinates:\n",
    "        uncertainty_value = uncertainty[tuple(coord)]\n",
    "        uncertainty_values.append(uncertainty_value)\n",
    "\n",
    "    for coord in correct_coordinates:\n",
    "        uncertainty_value = uncertainty[tuple(coord)]\n",
    "        uncertainty_values_correct.append(uncertainty_value)\n",
    "\n",
    "    # Calculate the mean uncertainty value\n",
    "    mean_uncertainty = np.mean(uncertainty_values)\n",
    "    mean_uncertainties.append(mean_uncertainty)\n",
    "\n",
    "    mean_uncertainty_correct = np.mean(uncertainty_values_correct)\n",
    "    mean_uncertainties_correct.append(mean_uncertainty_correct)\n",
    "\n",
    "    total_diff_coords.append(len(diff_coordinates))\n",
    "\n",
    "    # get uncertainty values specifically at coordinates where there is a difference\n",
    "    # return mean of those uncertainty vlaues\n"
   ]
  },
  {
   "cell_type": "code",
   "execution_count": 8,
   "id": "b7a234dd-8742-428d-b1dd-900771f0cf00",
   "metadata": {},
   "outputs": [],
   "source": [
    "specific_unc = pd.DataFrame()\n",
    "specific_unc['image'] = image_names\n",
    "specific_unc['region_unc'] = mean_uncertainties\n",
    "specific_unc['diff_coords']=total_diff_coords\n",
    "specific_unc['correction_region_unc']=mean_uncertainties_correct\n",
    "\n",
    "regional_df = results_df_ab_2.merge(specific_unc)"
   ]
  },
  {
   "cell_type": "code",
   "execution_count": 9,
   "id": "d8d365e4-090c-4f14-a384-cada90d4203a",
   "metadata": {},
   "outputs": [
    {
     "data": {
      "text/plain": [
       "0.20348152200117353"
      ]
     },
     "execution_count": 9,
     "metadata": {},
     "output_type": "execute_result"
    }
   ],
   "source": [
    "specific_unc['region_unc'].mean()"
   ]
  },
  {
   "cell_type": "code",
   "execution_count": 10,
   "id": "64e590d9-e37b-4b65-8ecc-ca247a2f7b27",
   "metadata": {},
   "outputs": [
    {
     "data": {
      "text/plain": [
       "0.0033777369025507595"
      ]
     },
     "execution_count": 10,
     "metadata": {},
     "output_type": "execute_result"
    }
   ],
   "source": [
    "specific_unc['correction_region_unc'].mean()"
   ]
  },
  {
   "cell_type": "code",
   "execution_count": 43,
   "id": "71c1cfa3-027c-4eb3-a65b-8cf2639ea0f6",
   "metadata": {},
   "outputs": [
    {
     "data": {
      "text/plain": [
       "Text(0, 0.5, 'Model uncertainty')"
      ]
     },
     "execution_count": 43,
     "metadata": {},
     "output_type": "execute_result"
    },
    {
     "data": {
      "image/png": "[encoded data removed]",
      "text/plain": [
       "<Figure size 800x600 with 1 Axes>"
      ]
     },
     "metadata": {
      "needs_background": "light"
     },
     "output_type": "display_data"
    }
   ],
   "source": [
    "import seaborn as sns\n",
    "plt.figure(figsize=(8, 6),facecolor='none')\n",
    "\n",
    "sns.boxplot([uncertainty_values_correct,uncertainty_values],showfliers=False,palette='mako')\n",
    "plt.xticks([0, 1], ['Correctly predicted voxels', 'Incorrectly predicted voxels'],fontsize=14)  # Replace 'Label 1' and 'Label 2' with your desired labels\n",
    "\n",
    "# Add labels to the y-axis and the plot title\n",
    "plt.ylabel('Model uncertainty',fontsize=14)"
   ]
  },
  {
   "cell_type": "code",
   "execution_count": 12,
   "id": "245ba6f1-34da-4fb5-9475-382dc1c38b8c",
   "metadata": {},
   "outputs": [
    {
     "data": {
      "image/png": "[encoded data removed]",
      "text/plain": [
       "<Figure size 640x480 with 1 Axes>"
      ]
     },
     "metadata": {},
     "output_type": "display_data"
    }
   ],
   "source": [
    "df = regional_df\n",
    "\n",
    "mask_class_0 = df['num_classes_list'] == 0\n",
    "mask_class_1 = df['num_classes_list'] == 1\n",
    "\n",
    "# Create a scatter plot for each group with different colors\n",
    "plt.scatter(df[mask_class_0]['region_unc'], df[mask_class_0]['dice_list'], label='No tumour', c='blue')\n",
    "plt.scatter(df[mask_class_1]['region_unc'], df[mask_class_1]['dice_list'], label='Tumour', c='red')\n",
    "\n",
    "plt.xlabel('Mean uncertainty across image')\n",
    "plt.ylabel('Dice overlap')\n",
    "plt.legend()  # Add a legend to label the two groups\n",
    "\n",
    "plt.show()"
   ]
  },
  {
   "cell_type": "code",
   "execution_count": 13,
   "id": "d7f9cc9e-f74e-4320-b64a-50aa2b0d3f73",
   "metadata": {
    "scrolled": true
   },
   "outputs": [
    {
     "name": "stdout",
     "output_type": "stream",
     "text": [
      "PETCT_c852dfc0a5_07262002\n",
      "PETCT_b1aa7ce13e_03092003\n",
      "PETCT_7b42056ee3_10132002\n",
      "PETCT_41f4d41517_11132004\n",
      "PETCT_f01e83894d_03242005\n",
      "PETCT_f068e22258_05142007\n",
      "PETCT_d69eabbb20_02012001\n",
      "PETCT_88bcc970b3_02282002\n",
      "PETCT_40f0749cb7_10062001\n",
      "PETCT_d8d9e52cd5_05072007\n",
      "PETCT_d3208ff062_03142003\n",
      "PETCT_456d14846b_09012003\n",
      "PETCT_0ea07b421b_10272001\n",
      "PETCT_6d6a193655_11172002\n",
      "PETCT_8e02f36295_11082004\n",
      "PETCT_5ef99b0b6b_09072000\n",
      "PETCT_1781ba966c_08082002\n",
      "PETCT_2ad62beb52_03082003\n",
      "PETCT_ede28cc3c2_01042001\n",
      "PETCT_176bdc5388_06222006\n",
      "PETCT_a90955352e_05162003\n",
      "PETCT_4095c12e2d_11302006\n",
      "PETCT_644d80e987_02152003\n",
      "PETCT_ea0fd89f0f_10252003\n",
      "PETCT_b66ba83594_03132003\n",
      "PETCT_d325897ff4_07152005\n",
      "PETCT_b3e923029c_11212003\n",
      "PETCT_802f19931c_06302002\n",
      "PETCT_c517c47bed_02062003\n",
      "PETCT_dd8f9f217c_02152004\n",
      "PETCT_9902caa7ec_08132006\n",
      "PETCT_1472967bef_12212002\n",
      "PETCT_9b982e72cb_09152001\n",
      "PETCT_38a374d01a_05242007\n",
      "PETCT_15a205ffcc_08192005\n",
      "PETCT_f8314eb3f7_03142003\n",
      "PETCT_ae6a37a9d6_08182005\n",
      "PETCT_18e8b02af3_08142005\n",
      "PETCT_b7c1533a39_02122005\n",
      "PETCT_ae6a37a9d6_09152002\n",
      "PETCT_f8de0cde56_12052005\n",
      "PETCT_6e7c7f8087_03232003\n",
      "PETCT_e9feb1135e_07012005\n",
      "PETCT_7cfd708a53_06172005\n",
      "PETCT_12025abab5_11012004\n",
      "PETCT_389462c0ac_03032005\n",
      "PETCT_7a77b26403_10202000\n",
      "PETCT_9aa97cf103_07182004\n",
      "PETCT_a87dda9193_01262003\n",
      "PETCT_b2f82ed4b9_11112002\n",
      "PETCT_1fa22c576e_10172004\n",
      "PETCT_6d62e15c29_02232007\n",
      "PETCT_92c3de23f5_10082005\n",
      "PETCT_1ac497ed9d_10282004\n",
      "PETCT_3049d4f1a4_02242002\n",
      "PETCT_59309d6625_03032006\n",
      "PETCT_4c75fa4a5d_04192001\n",
      "PETCT_b57e1c1f5f_06252006\n",
      "PETCT_08212d7f6c_09112003\n",
      "PETCT_bd76c8d299_10252002\n",
      "PETCT_d626611daf_04032003\n",
      "PETCT_14929994cf_04302005\n",
      "PETCT_ca62984a81_08072003\n",
      "PETCT_ec581d49ef_01232003\n",
      "PETCT_f7a9267a69_02012003\n",
      "PETCT_e4e5baf901_02142005\n",
      "PETCT_3eac8f16d4_09302001\n",
      "PETCT_a627fc68a1_02142003\n",
      "PETCT_f650c87621_03112005\n",
      "PETCT_c799ccc2f6_08262002\n",
      "PETCT_249c02c01c_03062003\n",
      "PETCT_9a66a81ad1_02262005\n",
      "PETCT_a8a5e96821_03112005\n",
      "PETCT_a4cb97ffc7_07112005\n",
      "PETCT_6a3477cd9a_01152005\n",
      "PETCT_b899150306_08112002\n",
      "PETCT_d9da6129f8_04142002\n",
      "PETCT_af73b85f2c_06192003\n",
      "PETCT_21853fc15b_10122002\n",
      "PETCT_ff1451316e_03312003\n",
      "PETCT_ae46202abb_02282003\n",
      "PETCT_21e4ffcb52_05062002\n",
      "PETCT_9c36b318e8_11042006\n",
      "PETCT_3481507253_06172007\n",
      "PETCT_44b95650c3_10022003\n",
      "PETCT_71ac560ffe_03192007\n",
      "PETCT_f5c9b0de6c_04022004\n",
      "PETCT_caae8d63f0_01262004\n",
      "PETCT_d32cf972af_03132003\n",
      "PETCT_b621742469_11042004\n",
      "PETCT_41bd54f97a_03252007\n"
     ]
    }
   ],
   "source": [
    "## try getting dice score for pixels of different uncertainties\n",
    "total_diff_3 = []\n",
    "total_diff_2 = []\n",
    "total_diff_1 = []\n",
    "total_diff_0 = []\n",
    "\n",
    "for folder in os.listdir(model_folder):\n",
    "    print(folder)\n",
    "    image_names.append(folder)\n",
    "    \n",
    "    path = os.path.join(model_folder,folder,'output.nii.gz')\n",
    "    img_nifti = nib.load(path)\n",
    "    output = img_nifti.get_fdata()\n",
    "    \n",
    "    path = os.path.join(model_folder,folder,'target.nii.gz')\n",
    "    img_nifti = nib.load(path)\n",
    "    target = img_nifti.get_fdata()\n",
    "    \n",
    "    path = os.path.join(model_folder,folder,'uncertainty.nii.gz')\n",
    "    img_nifti = nib.load(path)\n",
    "    uncertainty = img_nifti.get_fdata()\n",
    "\n",
    "    uncertain_3_coords =  np.argwhere(uncertainty > 0.75)\n",
    "    uncertain_2_coords = np.argwhere((0.5 < uncertainty) & (uncertainty <= 0.75))\n",
    "    uncertain_1_coords = np.argwhere((0.25 < uncertainty) & (uncertainty <= 0.5))\n",
    "    uncertain_0_coords =  np.argwhere(uncertainty <= 0.25)\n",
    "\n",
    "    diff_3 = []\n",
    "\n",
    "    for coord in uncertain_3_coords:\n",
    "        pred = output[tuple(coord)]\n",
    "        target_reg = target[tuple(coord)]\n",
    "        diff_3.append(np.abs(pred-target_reg))\n",
    "\n",
    "    if diff_3 != []:\n",
    "        total_vox = 2*len(diff_3)\n",
    "        inter_vox = 2*(len(diff_3) - np.sum(diff_3))\n",
    "        total_diff_3.append(inter_vox/total_vox) \n",
    "        \n",
    "    diff_2 = []\n",
    "\n",
    "    for coord in uncertain_2_coords:\n",
    "        pred = output[tuple(coord)]\n",
    "        target_reg = target[tuple(coord)]\n",
    "        diff_2.append(np.abs(pred-target_reg))\n",
    "\n",
    "    if diff_2 != []:\n",
    "        total_vox = 2*len(diff_2)\n",
    "        inter_vox = 2*(len(diff_2) - np.sum(diff_2))\n",
    "        total_diff_2.append(inter_vox/total_vox) \n",
    "    \n",
    "    diff_1 = []\n",
    "\n",
    "    for coord in uncertain_1_coords:\n",
    "        pred = output[tuple(coord)]\n",
    "        target_reg = target[tuple(coord)]\n",
    "        diff_1.append(np.abs(pred-target_reg))\n",
    "    \n",
    "    if diff_1 != []:\n",
    "        total_vox = 2*len(diff_1)\n",
    "        inter_vox = 2*(len(diff_1) - np.sum(diff_1))\n",
    "        total_diff_1.append(inter_vox/total_vox) \n",
    "        \n",
    "    diff_0 = []\n",
    "\n",
    "    for coord in uncertain_0_coords:\n",
    "        pred = output[tuple(coord)]\n",
    "        target_reg = target[tuple(coord)]\n",
    "        diff_0.append(np.abs(pred-target_reg))\n",
    "    \n",
    "    if diff_0 != []:\n",
    "        total_vox = 2*len(diff_0)\n",
    "        inter_vox = 2*(len(diff_0) - np.sum(diff_0))\n",
    "        total_diff_0.append(inter_vox/total_vox)\n",
    "        "
   ]
  },
  {
   "cell_type": "code",
   "execution_count": 46,
   "id": "747ef592-22f9-4be9-8ac9-d0c8cfec8e9d",
   "metadata": {},
   "outputs": [],
   "source": [
    "unc_bins_df = pd.DataFrame()\n",
    "all_values = total_diff_3 + total_diff_2 + total_diff_1 + total_diff_0\n",
    "\n",
    "# Create a list to categorize the values\n",
    "categories = ['3'] * len(total_diff_3) + ['2'] * len(total_diff_2) + ['1'] * len(total_diff_1) + ['0'] * len(total_diff_0)\n",
    "\n",
    "# Create a DataFrame\n",
    "unc_bins_df = pd.DataFrame({'Values': all_values, 'Category': categories})\n",
    "\n",
    "# Optionally, you can reset the index if needed\n",
    "unc_bins_df.reset_index(drop=True, inplace=True)"
   ]
  },
  {
   "cell_type": "code",
   "execution_count": 47,
   "id": "f9581d2c-a29c-43e7-ae36-7fe92ee737c6",
   "metadata": {},
   "outputs": [
    {
     "data": {
      "image/png": "[encoded data removed]",
      "text/plain": [
       "<Figure size 800x600 with 1 Axes>"
      ]
     },
     "metadata": {
      "needs_background": "light"
     },
     "output_type": "display_data"
    }
   ],
   "source": [
    "import matplotlib.pyplot as plt\n",
    "import seaborn as sns\n",
    "\n",
    "# Your updated category mapping with line breaks\n",
    "category_mapping = {\n",
    "    '3': 'High\\n(0.75-1.0)',\n",
    "    '2': 'Medium\\n(0.50-0.75)',\n",
    "    '1': 'Low\\n(0.25-0.50)',\n",
    "    '0': 'Very low\\n(0.0-0.25)'\n",
    "}\n",
    "\n",
    "unc_bins_df['Category'] = unc_bins_df['Category'].map(category_mapping)\n",
    "\n",
    "category_order = ['Very low\\n(0.0-0.25)', 'Low\\n(0.25-0.50)', 'Medium\\n(0.50-0.75)', 'High\\n(0.75-1.0)']\n",
    "\n",
    "# Create the figure with a transparent background\n",
    "fig = plt.figure(figsize=(8, 6), facecolor='none')\n",
    "ax = sns.boxplot(x='Category', y='Values', data=unc_bins_df, palette=\"mako\", order=category_order)\n",
    "\n",
    "# Set labels for the axes and the plot title with increased font size\n",
    "plt.xlabel('Model uncertainty', fontsize=14)\n",
    "plt.ylabel('Dice score of select voxels', fontsize=14)\n",
    "\n",
    "# Increase the font size of x-axis tick labels\n",
    "ax.set_xticklabels(ax.get_xticklabels(), fontsize=14)\n",
    "\n",
    "# Show the plot\n",
    "plt.show()"
   ]
  },
  {
   "cell_type": "code",
   "execution_count": 40,
   "id": "a8c565fc-fe11-4a9a-a609-448b36cff3d6",
   "metadata": {},
   "outputs": [
    {
     "data": {
      "image/png": "[encoded data removed]",
      "text/plain": [
       "<Figure size 800x600 with 1 Axes>"
      ]
     },
     "metadata": {
      "needs_background": "light"
     },
     "output_type": "display_data"
    },
    {
     "data": {
      "text/plain": [
       "<Figure size 640x480 with 0 Axes>"
      ]
     },
     "metadata": {},
     "output_type": "display_data"
    }
   ],
   "source": [
    "category_mapping = {'3': 'High (0.75-1.0)', '2': 'Medium (0.50-0.75)' , '1': 'Low (0.25-0.50)', '0': 'Very low (0.0-0.25)'}\n",
    "unc_bins_df['Category'] = unc_bins_df['Category'].map(category_mapping)\n",
    "\n",
    "category_order = ['Very low (0.0-0.25)', 'Low (0.25-0.50)', 'Medium (0.50-0.75)', 'High (0.75-1.0)']\n",
    "\n",
    "# Create a boxplot using Seaborn\n",
    "plt.figure(figsize=(8, 6),facecolor='none')\n",
    "sns.boxplot(x='Category', y='Values', data=unc_bins_df,palette=\"mako\", order=category_order)\n",
    "\n",
    "# Set labels for the axes and the plot title\n",
    "plt.xlabel('Model uncertainty',fontsize=14)\n",
    "plt.ylabel('Dice score of select voxels',fontsize=14)\n",
    "ax.set_xticklabels(ax.get_xticklabels(), fontsize=14)\n",
    "\n",
    "# Show the plot\n",
    "plt.show()\n"
   ]
  },
  {
   "cell_type": "code",
   "execution_count": 16,
   "id": "1a90f047-502c-4526-afa4-fac23b61fee9",
   "metadata": {},
   "outputs": [
    {
     "data": {
      "text/html": [
       "<div>\n",
       "<style scoped>\n",
       "    .dataframe tbody tr th:only-of-type {\n",
       "        vertical-align: middle;\n",
       "    }\n",
       "\n",
       "    .dataframe tbody tr th {\n",
       "        vertical-align: top;\n",
       "    }\n",
       "\n",
       "    .dataframe thead th {\n",
       "        text-align: right;\n",
       "    }\n",
       "</style>\n",
       "<table border=\"1\" class=\"dataframe\">\n",
       "  <thead>\n",
       "    <tr style=\"text-align: right;\">\n",
       "      <th></th>\n",
       "      <th>Values</th>\n",
       "      <th>Category</th>\n",
       "    </tr>\n",
       "  </thead>\n",
       "  <tbody>\n",
       "    <tr>\n",
       "      <th>0</th>\n",
       "      <td>0.514793</td>\n",
       "      <td>High (0.75-1.0)</td>\n",
       "    </tr>\n",
       "    <tr>\n",
       "      <th>1</th>\n",
       "      <td>0.422892</td>\n",
       "      <td>High (0.75-1.0)</td>\n",
       "    </tr>\n",
       "    <tr>\n",
       "      <th>2</th>\n",
       "      <td>0.020000</td>\n",
       "      <td>High (0.75-1.0)</td>\n",
       "    </tr>\n",
       "    <tr>\n",
       "      <th>3</th>\n",
       "      <td>0.000000</td>\n",
       "      <td>High (0.75-1.0)</td>\n",
       "    </tr>\n",
       "    <tr>\n",
       "      <th>4</th>\n",
       "      <td>0.764479</td>\n",
       "      <td>High (0.75-1.0)</td>\n",
       "    </tr>\n",
       "    <tr>\n",
       "      <th>...</th>\n",
       "      <td>...</td>\n",
       "      <td>...</td>\n",
       "    </tr>\n",
       "    <tr>\n",
       "      <th>287</th>\n",
       "      <td>0.999487</td>\n",
       "      <td>Very low (0.0-0.25)</td>\n",
       "    </tr>\n",
       "    <tr>\n",
       "      <th>288</th>\n",
       "      <td>0.999346</td>\n",
       "      <td>Very low (0.0-0.25)</td>\n",
       "    </tr>\n",
       "    <tr>\n",
       "      <th>289</th>\n",
       "      <td>1.000000</td>\n",
       "      <td>Very low (0.0-0.25)</td>\n",
       "    </tr>\n",
       "    <tr>\n",
       "      <th>290</th>\n",
       "      <td>0.999914</td>\n",
       "      <td>Very low (0.0-0.25)</td>\n",
       "    </tr>\n",
       "    <tr>\n",
       "      <th>291</th>\n",
       "      <td>1.000000</td>\n",
       "      <td>Very low (0.0-0.25)</td>\n",
       "    </tr>\n",
       "  </tbody>\n",
       "</table>\n",
       "<p>292 rows × 2 columns</p>\n",
       "</div>"
      ],
      "text/plain": [
       "       Values             Category\n",
       "0    0.514793      High (0.75-1.0)\n",
       "1    0.422892      High (0.75-1.0)\n",
       "2    0.020000      High (0.75-1.0)\n",
       "3    0.000000      High (0.75-1.0)\n",
       "4    0.764479      High (0.75-1.0)\n",
       "..        ...                  ...\n",
       "287  0.999487  Very low (0.0-0.25)\n",
       "288  0.999346  Very low (0.0-0.25)\n",
       "289  1.000000  Very low (0.0-0.25)\n",
       "290  0.999914  Very low (0.0-0.25)\n",
       "291  1.000000  Very low (0.0-0.25)\n",
       "\n",
       "[292 rows x 2 columns]"
      ]
     },
     "execution_count": 16,
     "metadata": {},
     "output_type": "execute_result"
    }
   ],
   "source": [
    "unc_bins_df"
   ]
  },
  {
   "cell_type": "code",
   "execution_count": null,
   "id": "09d3ff2e-1f4b-493a-afd2-3ecfdf35cfa9",
   "metadata": {},
   "outputs": [],
   "source": []
  },
  {
   "cell_type": "code",
   "execution_count": null,
   "id": "e5915607-5936-485b-9403-85a6d0202c36",
   "metadata": {},
   "outputs": [],
   "source": []
  }
 ],
 "metadata": {
  "kernelspec": {
   "display_name": "env1-skylake",
   "language": "python",
   "name": "env1-skylake"
  },
  "language_info": {
   "codemirror_mode": {
    "name": "ipython",
    "version": 3
   },
   "file_extension": ".py",
   "mimetype": "text/x-python",
   "name": "python",
   "nbconvert_exporter": "python",
   "pygments_lexer": "ipython3",
   "version": "3.10.8"
  }
 },
 "nbformat": 4,
 "nbformat_minor": 5
}
